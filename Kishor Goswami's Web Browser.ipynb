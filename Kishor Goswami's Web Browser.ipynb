{
 "cells": [
  {
   "cell_type": "code",
   "execution_count": 2,
   "id": "5c258afb",
   "metadata": {},
   "outputs": [],
   "source": [
    "import sys\n",
    "\n",
    "#importing Widgtes\n",
    "from PyQt5.QtWidgets import *\n",
    "\n",
    "#importing Engine Widgets\n",
    "from PyQt5.QtWebEngineWidgets import *\n",
    "\n",
    "#importing QtCore to use Qurl\n",
    "from PyQt5.QtCore import *\n",
    "\n"
   ]
  },
  {
   "cell_type": "code",
   "execution_count": 3,
   "id": "cc59e313",
   "metadata": {},
   "outputs": [
    {
     "data": {
      "text/plain": [
       "0"
      ]
     },
     "execution_count": 3,
     "metadata": {},
     "output_type": "execute_result"
    }
   ],
   "source": [
    "#main window class (to create a window)-sub class of QMainWindow class\n",
    "class Window(QMainWindow):\n",
    "\n",
    "    #defining constructor function\n",
    "    def __init__(self):\n",
    "        #creating connnection with parent class constructor\n",
    "        super(Window,self).__init__()\n",
    "\n",
    "        #---------------------adding browser-------------------\n",
    "        self.browser = QWebEngineView()\n",
    "\n",
    "        #setting url for browser, you can use any other url also\n",
    "        self.browser.setUrl(QUrl('http://google.com'))\n",
    "\n",
    "        #to display google search engine on our browser\n",
    "        self.setCentralWidget(self.browser)\n",
    "\n",
    "        #-------------------full screen mode------------------\n",
    "        #to display browser in full screen mode, you may comment below line if you don't want to open your browser in full screen mode\n",
    "        self.showMaximized()\n",
    "\n",
    "        #----------------------navbar-------------------------\n",
    "        #creating a navigation bar for the browser\n",
    "        navbar = QToolBar()\n",
    "        #adding created navbar\n",
    "        self.addToolBar(navbar)\n",
    "\n",
    "        #-----------------prev Button-----------------\n",
    "        #creating prev button\n",
    "        prevBtn = QAction('Prev',self)\n",
    "        #when triggered set connection \n",
    "        prevBtn.triggered.connect(self.browser.back)\n",
    "        # adding prev button to the navbar\n",
    "        navbar.addAction(prevBtn)\n",
    "\n",
    "        #-----------------next Button---------------\n",
    "        nextBtn = QAction('Next',self)\n",
    "        nextBtn.triggered.connect(self.browser.forward)\n",
    "        navbar.addAction(nextBtn)\n",
    "\n",
    "        #-----------refresh Button--------------------\n",
    "        refreshBtn = QAction('Refresh',self)\n",
    "        refreshBtn.triggered.connect(self.browser.reload)\n",
    "        navbar.addAction(refreshBtn)\n",
    "\n",
    "        #-----------home button----------------------\n",
    "        homeBtn = QAction('Home',self)\n",
    "        #when triggered call home method\n",
    "        homeBtn.triggered.connect(self.home)\n",
    "        navbar.addAction(homeBtn)\n",
    "\n",
    "        #---------------------search bar---------------------------------\n",
    "        #to maintain a single line\n",
    "        self.searchBar = QLineEdit()\n",
    "        #when someone presses return(enter) call loadUrl method\n",
    "        self.searchBar.returnPressed.connect(self.loadUrl)\n",
    "        #adding created seach bar to navbar\n",
    "        navbar.addWidget(self.searchBar)\n",
    "\n",
    "        #if url in the searchBar is changed then call updateUrl method\n",
    "        self.browser.urlChanged.connect(self.updateUrl)\n",
    "\n",
    "    #method to navigate back to home page\n",
    "    def home(self):\n",
    "        self.browser.setUrl(QUrl('https://duckduckgo.com/'))\n",
    "\n",
    "    #method to load the required url\n",
    "    def loadUrl(self):\n",
    "        #fetching entered url from searchBar\n",
    "        url = self.searchBar.text()\n",
    "        #loading url\n",
    "        self.browser.setUrl(QUrl(url))\n",
    "\n",
    "    #method to update the url\n",
    "    def updateUrl(self, url):\n",
    "        #changing the content(text) of searchBar\n",
    "        self.searchBar.setText(url.toString())\n",
    "\n",
    "\n",
    "MyApp = QApplication(sys.argv)\n",
    "\n",
    "#setting application name\n",
    "QApplication.setApplicationName(\"Kishor's Web Browser\")\n",
    "\n",
    "#creating window\n",
    "window = Window()\n",
    "\n",
    "#executing created app\n",
    "MyApp.exec_()"
   ]
  },
  {
   "cell_type": "code",
   "execution_count": null,
   "id": "bb54dab4",
   "metadata": {},
   "outputs": [],
   "source": []
  },
  {
   "cell_type": "code",
   "execution_count": null,
   "id": "a4f84b4b",
   "metadata": {},
   "outputs": [],
   "source": []
  },
  {
   "cell_type": "code",
   "execution_count": null,
   "id": "23a87b05",
   "metadata": {},
   "outputs": [],
   "source": []
  }
 ],
 "metadata": {
  "kernelspec": {
   "display_name": "Python 3 (ipykernel)",
   "language": "python",
   "name": "python3"
  },
  "language_info": {
   "codemirror_mode": {
    "name": "ipython",
    "version": 3
   },
   "file_extension": ".py",
   "mimetype": "text/x-python",
   "name": "python",
   "nbconvert_exporter": "python",
   "pygments_lexer": "ipython3",
   "version": "3.9.7"
  }
 },
 "nbformat": 4,
 "nbformat_minor": 5
}
